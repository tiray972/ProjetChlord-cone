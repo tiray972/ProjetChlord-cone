{
 "cells": [
  {
   "cell_type": "code",
   "execution_count": 10,
   "metadata": {},
   "outputs": [
    {
     "name": "stdout",
     "output_type": "stream",
     "text": [
      "\n",
      "\n",
      "http://www.naiades.eaufrance.fr/acces-donnees#/physicochimie/resultats/exportCsv?debut=28-07-1993&fin=29-03-2022&departements=972\n",
      "﻿<?xml version=\"1.0\" encoding=\"UTF-8\"?><SyntheticPiezometricSheet xmlns:xsd=\"http://www.w3.org/2001/XMLSchema\" xmlns:xsi=\"http://www.w3.org/2001/XMLSchema-instance\"><Stat><Min>35.21</Min><Max>26.84</Max><Last_measure>29.54</Last_measure><Average>29.774</Average><Date_min>2020-08-09</Date_min><Date_max>2002-03-01</Date_max><Date_last_measure>2022-03-23</Date_last_measure><Number_measure>7280</Number_measure></Stat></SyntheticPiezometricSheet>\n"
     ]
    },
    {
     "data": {
      "text/plain": [
       "'\\n'"
      ]
     },
     "execution_count": 10,
     "metadata": {},
     "output_type": "execute_result"
    }
   ],
   "source": [
    "from flask import Flask, request, jsonify\n",
    "import requests,json\n",
    "from bs4 import BeautifulSoup\n",
    "import pandas as pd\n",
    "import csv\n",
    "\n",
    "# r=requests.get(\"http://services.ades.eaufrance.fr/ServicesPublic/ServicesAdesTableau/1/DataSheet_1.asmx?op=GetCapabilities\")\n",
    "print('\\n')\n",
    "dico= { 'service':'ADES:Fiche', 'request' :'GetCapabilities', 'version' :'1.0.0'}#les parametre de la requete get\n",
    "hed={'Content-Type':'application/xml'} #le content type attendu de cette même requete \n",
    "url1 = 'https://ades.eaufrance.fr'\n",
    "url='https://hubeau.eaufrance.fr/api/v1/qualite_rivieres/analyse_pc.csv'\n",
    "# donnees = json.loads()\n",
    "def CreationUrlnaiades(types=\"physicochimie\",region=\"972\",deb=\"28-07-1993\",fin=\"29-03-2022\"):\n",
    "    url=\"http://www.naiades.eaufrance.fr/acces-donnees#/\"\n",
    "    url=url+types+\"/resultats/exportCsv?debut=\"+deb+\"&fin=\"+fin+'&departements='+region\n",
    "    return url\n",
    "\n",
    "\n",
    "def testrequet(url,paramtre=None,hed=None):\n",
    "    if paramtre:\n",
    "        if hed:\n",
    "            reponce =requests.get(url,params=paramtre,headers=hed)\n",
    "        else:\n",
    "            reponce =requests.get(url,params=paramtre)\n",
    "    else:\n",
    "        reponce=requests.get(url)\n",
    "    if reponce.ok:\n",
    "        return reponce.url,reponce.headers['Content-Type']\n",
    "    else:\n",
    "        return \"L'URL n'as pas bien repondue\"\n",
    "\n",
    "\n",
    "def resortirData(url,paramtre=None,hed=None):\n",
    "    if testrequet(url,paramtre,hed)[1]=='text/xml;charset=utf-8':\n",
    "        print(requests.get(testrequet(url,paramtre,hed)[0]).text)\n",
    "\n",
    "\n",
    "\n",
    "urlxml='http://services.ades.eaufrance.fr/TableauStatistique/?code=03646X0086/F1&mode=1&referentiel=Prof'\n",
    "\n",
    "print(CreationUrlnaiades())\n",
    "\n",
    "nul='http://ADES:Fiche/request=GetFicheReseau/version=1.0.0/code=0000000029'\n",
    "\n",
    "# r = testrequet(urlxml)\n",
    "# j = requests.get(urlxml) \n",
    "\n",
    "resortirData(urlxml)\n",
    "# print(j.headers['Content-Type'])\n",
    "\n",
    "\n",
    "'''\n",
    "with open('donne_extraite.csv','w') as file:\n",
    "    file.write(r.text)\n",
    "    \n",
    "\n",
    "\n",
    "\n",
    "pointDeau_='http://services.ades.eaufrance.fr/adesfiche/?version=1.0.0&service=ades%3AFiche&request=getFichepointeau&code=BSS002NMFY'\n",
    "\n",
    "\n",
    "urlexemple='http://naiades.eaufrance.fr/acces-donnees#/physicochimie/resultats/exportCsv?debut=08-11-2013&fin=08-11-2016&departements=31&fractions=145'\n",
    "'''\n",
    "'\\n'\n",
    "\n"
   ]
  },
  {
   "cell_type": "code",
   "execution_count": 1,
   "metadata": {},
   "outputs": [],
   "source": [
    "# df=pd.read_csv('donne_extraite.csv',sep=';')"
   ]
  },
  {
   "cell_type": "code",
   "execution_count": 2,
   "metadata": {},
   "outputs": [
    {
     "ename": "NameError",
     "evalue": "name 'BeautifulSoup' is not defined",
     "output_type": "error",
     "traceback": [
      "\u001b[1;31m---------------------------------------------------------------------------\u001b[0m",
      "\u001b[1;31mNameError\u001b[0m                                 Traceback (most recent call last)",
      "\u001b[1;32mc:\\Users\\RAYAN\\Documents\\LICENCE MATH\\ALGO\\PROJECT\\ProjetChlord-cone\\testing.ipynb Cell 3'\u001b[0m in \u001b[0;36m<cell line: 1>\u001b[1;34m()\u001b[0m\n\u001b[1;32m----> <a href='vscode-notebook-cell:/c%3A/Users/RAYAN/Documents/LICENCE%20MATH/ALGO/PROJECT/ProjetChlord-cone/testing.ipynb#ch0000002?line=0'>1</a>\u001b[0m soup\u001b[39m=\u001b[39mBeautifulSoup(r\u001b[39m.\u001b[39mtext,features\u001b[39m=\u001b[39m\u001b[39m\"\u001b[39m\u001b[39mhtml.parser\u001b[39m\u001b[39m\"\u001b[39m)\n\u001b[0;32m      <a href='vscode-notebook-cell:/c%3A/Users/RAYAN/Documents/LICENCE%20MATH/ALGO/PROJECT/ProjetChlord-cone/testing.ipynb#ch0000002?line=1'>2</a>\u001b[0m s\u001b[39m=\u001b[39msoup\u001b[39m.\u001b[39mcontents\n\u001b[0;32m      <a href='vscode-notebook-cell:/c%3A/Users/RAYAN/Documents/LICENCE%20MATH/ALGO/PROJECT/ProjetChlord-cone/testing.ipynb#ch0000002?line=2'>3</a>\u001b[0m s\n",
      "\u001b[1;31mNameError\u001b[0m: name 'BeautifulSoup' is not defined"
     ]
    }
   ],
   "source": [
    "soup=BeautifulSoup(r.text,features=\"html.parser\")\n",
    "s=soup.contents\n",
    "s"
   ]
  },
  {
   "cell_type": "code",
   "execution_count": null,
   "metadata": {},
   "outputs": [],
   "source": []
  },
  {
   "cell_type": "code",
   "execution_count": null,
   "metadata": {},
   "outputs": [],
   "source": []
  },
  {
   "cell_type": "code",
   "execution_count": 102,
   "metadata": {},
   "outputs": [
    {
     "data": {
      "text/plain": [
       "17"
      ]
     },
     "execution_count": 102,
     "metadata": {},
     "output_type": "execute_result"
    }
   ],
   "source": [
    "titre=soup.find('title')\n",
    "resultat=soup.find_all('div')\n",
    "titre.text\n",
    "len(resultat)"
   ]
  },
  {
   "cell_type": "code",
   "execution_count": 90,
   "metadata": {},
   "outputs": [
    {
     "name": "stdout",
     "output_type": "stream",
     "text": [
      "\n",
      "Aller au contenu principal\n",
      "\n",
      "\n",
      "\n",
      "\n",
      "\n",
      "\n",
      "\n",
      "\n",
      "\n",
      "\n",
      "\n",
      "\n",
      "\n",
      "\n",
      "\n",
      "Espace perso Contact\n",
      "Glossaire\n",
      "\n",
      "\n",
      " \n",
      "\n",
      "\n",
      "\n",
      "\n",
      "Vous êtes ici : Recherche\n",
      "drupal_get_title\n",
      "Recherche\n",
      "\n",
      "\n",
      "\n",
      "\n",
      "\n",
      "Présentation\n",
      "À propos des données Origine des données\n",
      "Thématiques\n",
      "Organisation des données\n",
      "Validation des données\n",
      "\n",
      "Boîte à outils Utiliser l'espace personnel\n",
      "Gestion des url\n",
      "Accès au manuel d'utilisation du portail\n",
      "Documentation campagne alimentation 2019\n",
      "Documentation campagne alimentation 2020\n",
      "\n",
      "Accès aux données Recherche\n",
      "France Entière\n",
      "Données disponibles\n",
      "\n",
      "\n",
      "\n",
      "\n",
      " \n",
      "\n",
      "\n",
      "\n",
      "\n",
      "\n",
      "\n",
      "\n",
      "\n",
      "\n",
      "\n",
      "\n",
      "\n",
      "\n",
      "\n",
      "\n",
      "\n",
      "\n",
      "\n",
      "\n",
      "\n",
      "\n",
      "\n",
      "Espace perso Contact\n",
      "Glossaire\n",
      "\n",
      "\n",
      "\n",
      "\n",
      "\n",
      "\n",
      "Vous êtes ici : Recherche\n",
      "drupal_get_title\n",
      "Recherche\n",
      "\n",
      "\n",
      "\n",
      "\n",
      "\n",
      "Présentation\n",
      "À propos des données Origine des données\n",
      "Thématiques\n",
      "Organisation des données\n",
      "Validation des données\n",
      "\n",
      "Boîte à outils Utiliser l'espace personnel\n",
      "Gestion des url\n",
      "Accès au manuel d'utilisation du portail\n",
      "Documentation campagne alimentation 2019\n",
      "Documentation campagne alimentation 2020\n",
      "\n",
      "Accès aux données Recherche\n",
      "France Entière\n",
      "Données disponibles\n",
      "\n",
      "\n",
      "\n",
      "\n",
      " \n",
      "\n",
      "\n",
      "\n",
      "\n",
      "\n",
      "\n",
      "\n",
      "\n",
      "\n",
      "\n",
      "\n",
      "Présentation\n",
      "À propos des données Origine des données\n",
      "Thématiques\n",
      "Organisation des données\n",
      "Validation des données\n",
      "\n",
      "Boîte à outils Utiliser l'espace personnel\n",
      "Gestion des url\n",
      "Accès au manuel d'utilisation du portail\n",
      "Documentation campagne alimentation 2019\n",
      "Documentation campagne alimentation 2020\n",
      "\n",
      "Accès aux données Recherche\n",
      "France Entière\n",
      "Données disponibles\n",
      "\n",
      "\n",
      "\n",
      "\n",
      "\n",
      "\n",
      "\n",
      "\n",
      "\n",
      "\n",
      "\n",
      "\n",
      "\n",
      "\n",
      "Plan du site |\n",
      "Mentions légales | \n",
      "Avertissement | \n",
      "Tutoriels et FAQ\n",
      "\n",
      "\n",
      "\n",
      "\n",
      "\n",
      "\n",
      "\n",
      "\n",
      "Plan du site |\n",
      "Mentions légales | \n",
      "Avertissement | \n",
      "Tutoriels et FAQ\n",
      "\n",
      "\n",
      "\n",
      "\n"
     ]
    }
   ],
   "source": [
    "titre=soup.find('title')\n",
    "resultat=soup.findAll('div')\n",
    "for res in resultat:\n",
    "    print(res.get_text())"
   ]
  },
  {
   "cell_type": "code",
   "execution_count": 88,
   "metadata": {},
   "outputs": [
    {
     "data": {
      "text/plain": [
       "[]"
      ]
     },
     "execution_count": 88,
     "metadata": {},
     "output_type": "execute_result"
    }
   ],
   "source": []
  }
 ],
 "metadata": {
  "interpreter": {
   "hash": "3cccb3cf061926bbdc15faa2b305e6d50680b7731ca1fabcc737e13f3ada041b"
  },
  "kernelspec": {
   "display_name": "Python 3.10.2 64-bit (windows store)",
   "language": "python",
   "name": "python3"
  },
  "language_info": {
   "codemirror_mode": {
    "name": "ipython",
    "version": 3
   },
   "file_extension": ".py",
   "mimetype": "text/x-python",
   "name": "python",
   "nbconvert_exporter": "python",
   "pygments_lexer": "ipython3",
   "version": "3.10.4"
  },
  "orig_nbformat": 4
 },
 "nbformat": 4,
 "nbformat_minor": 2
}
